{
 "cells": [
  {
   "cell_type": "markdown",
   "metadata": {},
   "source": [
    "## Score Predictor\n",
    "Importing all relevant libraries for Data Preparation (importing and cleaning), EDA, ML Model Implementation and Results Evaluation."
   ]
  },
  {
   "cell_type": "code",
   "execution_count": 1,
   "metadata": {
    "collapsed": false
   },
   "outputs": [
    {
     "name": "stdout",
     "output_type": "stream",
     "text": [
      "Populating the interactive namespace from numpy and matplotlib\n"
     ]
    }
   ],
   "source": [
    "%pylab inline"
   ]
  },
  {
   "cell_type": "code",
   "execution_count": 2,
   "metadata": {
    "collapsed": false
   },
   "outputs": [],
   "source": [
    "import pandas as pd\n",
    "import numpy as np\n",
    "import seaborn as sns\n",
    "import matplotlib.pyplot as plt\n",
    "from sklearn.externals import joblib\n",
    "from sklearn.linear_model import Lasso\n",
    "from sklearn.metrics import roc_auc_score, roc_curve\n",
    "from sklearn.ensemble import RandomForestRegressor\n",
    "from sklearn.linear_model import LinearRegression\n",
    "from sklearn.model_selection import train_test_split\n",
    "from sklearn.metrics import mean_absolute_error\n",
    "from sklearn.preprocessing import scale\n",
    "import warnings\n",
    "warnings.filterwarnings(\"ignore\")"
   ]
  },
  {
   "cell_type": "code",
   "execution_count": 3,
   "metadata": {
    "collapsed": true
   },
   "outputs": [],
   "source": [
    "sns.set()\n",
    "plt.style.use('ggplot')\n",
    "matplotlib.rcParams['figure.figsize'] = (10.0, 8.0)\n",
    "%load_ext autoreload \n",
    "%autoreload 2"
   ]
  },
  {
   "cell_type": "markdown",
   "metadata": {},
   "source": [
    "Firstly, we read the dataset into a dataframe using pandas.\n"
   ]
  },
  {
   "cell_type": "code",
   "execution_count": 4,
   "metadata": {
    "collapsed": false
   },
   "outputs": [
    {
     "data": {
      "text/html": [
       "<div>\n",
       "<style scoped>\n",
       "    .dataframe tbody tr th:only-of-type {\n",
       "        vertical-align: middle;\n",
       "    }\n",
       "\n",
       "    .dataframe tbody tr th {\n",
       "        vertical-align: top;\n",
       "    }\n",
       "\n",
       "    .dataframe thead th {\n",
       "        text-align: right;\n",
       "    }\n",
       "</style>\n",
       "<table border=\"1\" class=\"dataframe\">\n",
       "  <thead>\n",
       "    <tr style=\"text-align: right;\">\n",
       "      <th></th>\n",
       "      <th>mid</th>\n",
       "      <th>date</th>\n",
       "      <th>venue</th>\n",
       "      <th>bat_team</th>\n",
       "      <th>bowl_team</th>\n",
       "      <th>batsman</th>\n",
       "      <th>bowler</th>\n",
       "      <th>runs</th>\n",
       "      <th>wickets</th>\n",
       "      <th>overs</th>\n",
       "      <th>runs_last_5</th>\n",
       "      <th>wickets_last_5</th>\n",
       "      <th>striker</th>\n",
       "      <th>non-striker</th>\n",
       "      <th>total</th>\n",
       "    </tr>\n",
       "  </thead>\n",
       "  <tbody>\n",
       "    <tr>\n",
       "      <th>0</th>\n",
       "      <td>1</td>\n",
       "      <td>2006-06-13</td>\n",
       "      <td>Civil Service Cricket Club, Stormont</td>\n",
       "      <td>England</td>\n",
       "      <td>Ireland</td>\n",
       "      <td>ME Trescothick</td>\n",
       "      <td>DT Johnston</td>\n",
       "      <td>0</td>\n",
       "      <td>0</td>\n",
       "      <td>0.1</td>\n",
       "      <td>0</td>\n",
       "      <td>0</td>\n",
       "      <td>0</td>\n",
       "      <td>0</td>\n",
       "      <td>301</td>\n",
       "    </tr>\n",
       "    <tr>\n",
       "      <th>1</th>\n",
       "      <td>1</td>\n",
       "      <td>2006-06-13</td>\n",
       "      <td>Civil Service Cricket Club, Stormont</td>\n",
       "      <td>England</td>\n",
       "      <td>Ireland</td>\n",
       "      <td>ME Trescothick</td>\n",
       "      <td>DT Johnston</td>\n",
       "      <td>0</td>\n",
       "      <td>0</td>\n",
       "      <td>0.2</td>\n",
       "      <td>0</td>\n",
       "      <td>0</td>\n",
       "      <td>0</td>\n",
       "      <td>0</td>\n",
       "      <td>301</td>\n",
       "    </tr>\n",
       "    <tr>\n",
       "      <th>2</th>\n",
       "      <td>1</td>\n",
       "      <td>2006-06-13</td>\n",
       "      <td>Civil Service Cricket Club, Stormont</td>\n",
       "      <td>England</td>\n",
       "      <td>Ireland</td>\n",
       "      <td>ME Trescothick</td>\n",
       "      <td>DT Johnston</td>\n",
       "      <td>4</td>\n",
       "      <td>0</td>\n",
       "      <td>0.3</td>\n",
       "      <td>4</td>\n",
       "      <td>0</td>\n",
       "      <td>0</td>\n",
       "      <td>0</td>\n",
       "      <td>301</td>\n",
       "    </tr>\n",
       "    <tr>\n",
       "      <th>3</th>\n",
       "      <td>1</td>\n",
       "      <td>2006-06-13</td>\n",
       "      <td>Civil Service Cricket Club, Stormont</td>\n",
       "      <td>England</td>\n",
       "      <td>Ireland</td>\n",
       "      <td>ME Trescothick</td>\n",
       "      <td>DT Johnston</td>\n",
       "      <td>6</td>\n",
       "      <td>0</td>\n",
       "      <td>0.4</td>\n",
       "      <td>6</td>\n",
       "      <td>0</td>\n",
       "      <td>0</td>\n",
       "      <td>0</td>\n",
       "      <td>301</td>\n",
       "    </tr>\n",
       "    <tr>\n",
       "      <th>4</th>\n",
       "      <td>1</td>\n",
       "      <td>2006-06-13</td>\n",
       "      <td>Civil Service Cricket Club, Stormont</td>\n",
       "      <td>England</td>\n",
       "      <td>Ireland</td>\n",
       "      <td>ME Trescothick</td>\n",
       "      <td>DT Johnston</td>\n",
       "      <td>6</td>\n",
       "      <td>0</td>\n",
       "      <td>0.5</td>\n",
       "      <td>6</td>\n",
       "      <td>0</td>\n",
       "      <td>0</td>\n",
       "      <td>0</td>\n",
       "      <td>301</td>\n",
       "    </tr>\n",
       "  </tbody>\n",
       "</table>\n",
       "</div>"
      ],
      "text/plain": [
       "   mid        date                                 venue bat_team bowl_team  \\\n",
       "0    1  2006-06-13  Civil Service Cricket Club, Stormont  England   Ireland   \n",
       "1    1  2006-06-13  Civil Service Cricket Club, Stormont  England   Ireland   \n",
       "2    1  2006-06-13  Civil Service Cricket Club, Stormont  England   Ireland   \n",
       "3    1  2006-06-13  Civil Service Cricket Club, Stormont  England   Ireland   \n",
       "4    1  2006-06-13  Civil Service Cricket Club, Stormont  England   Ireland   \n",
       "\n",
       "          batsman       bowler  runs  wickets  overs  runs_last_5  \\\n",
       "0  ME Trescothick  DT Johnston     0        0    0.1            0   \n",
       "1  ME Trescothick  DT Johnston     0        0    0.2            0   \n",
       "2  ME Trescothick  DT Johnston     4        0    0.3            4   \n",
       "3  ME Trescothick  DT Johnston     6        0    0.4            6   \n",
       "4  ME Trescothick  DT Johnston     6        0    0.5            6   \n",
       "\n",
       "   wickets_last_5  striker  non-striker  total  \n",
       "0               0        0            0    301  \n",
       "1               0        0            0    301  \n",
       "2               0        0            0    301  \n",
       "3               0        0            0    301  \n",
       "4               0        0            0    301  "
      ]
     },
     "execution_count": 4,
     "metadata": {},
     "output_type": "execute_result"
    }
   ],
   "source": [
    "df = pd.read_csv('odi.txt')\n",
    "df.head()"
   ]
  },
  {
   "cell_type": "markdown",
   "metadata": {},
   "source": [
    "A concise summary of the dataframe is given below. It shows that there a total of 15 non-null columns. "
   ]
  },
  {
   "cell_type": "code",
   "execution_count": 5,
   "metadata": {
    "collapsed": false
   },
   "outputs": [
    {
     "name": "stdout",
     "output_type": "stream",
     "text": [
      "<class 'pandas.core.frame.DataFrame'>\n",
      "RangeIndex: 350899 entries, 0 to 350898\n",
      "Data columns (total 15 columns):\n",
      "mid               350899 non-null int64\n",
      "date              350899 non-null object\n",
      "venue             350899 non-null object\n",
      "bat_team          350899 non-null object\n",
      "bowl_team         350899 non-null object\n",
      "batsman           350899 non-null object\n",
      "bowler            350899 non-null object\n",
      "runs              350899 non-null int64\n",
      "wickets           350899 non-null int64\n",
      "overs             350899 non-null float64\n",
      "runs_last_5       350899 non-null int64\n",
      "wickets_last_5    350899 non-null int64\n",
      "striker           350899 non-null int64\n",
      "non-striker       350899 non-null int64\n",
      "total             350899 non-null int64\n",
      "dtypes: float64(1), int64(8), object(6)\n",
      "memory usage: 40.2+ MB\n"
     ]
    }
   ],
   "source": [
    "df.info()"
   ]
  },
  {
   "cell_type": "code",
   "execution_count": 6,
   "metadata": {
    "collapsed": false
   },
   "outputs": [],
   "source": [
    "#reading all numeric features into X as numpy array\n",
    "X = np.asarray(df[[u'runs', u'wickets', u'overs', u'runs_last_5', u'wickets_last_5',\n",
    "       u'striker', u'non-striker']].dropna())\n",
    "\n",
    "#scaling features to avoid dominance of attributes with higher magnitude\n",
    "X_scaled = scale(X)\n",
    "\n",
    "#reading target feature in Y\n",
    "Y = df['total'].values"
   ]
  },
  {
   "cell_type": "markdown",
   "metadata": {},
   "source": [
    "Before proceeding for actual model implementation, we just check which features are more important."
   ]
  },
  {
   "cell_type": "code",
   "execution_count": 7,
   "metadata": {
    "collapsed": false
   },
   "outputs": [
    {
     "data": {
      "image/png": "[encoded data removed]",
      "text/plain": [
       "<Figure size 1296x576 with 1 Axes>"
      ]
     },
     "metadata": {},
     "output_type": "display_data"
    }
   ],
   "source": [
    "# using lasso for feature selection\n",
    "names = df[[u'runs', u'wickets', u'overs', u'runs_last_5', u'wickets_last_5',\n",
    "       u'striker', u'non-striker']].columns\n",
    "\n",
    "lasso = Lasso(alpha=0.001)\n",
    "lasso_coef = lasso.fit(X_scaled, Y).coef_\n",
    "\n",
    "plt.figure(figsize=(18,8))\n",
    "_ = plt.plot(range(len(names)), lasso_coef) \n",
    "_ = plt.xticks(range(len(names)), names, rotation=70) \n",
    "_ = plt.ylabel('Coefficients') \n",
    "plt.show()"
   ]
  },
  {
   "cell_type": "markdown",
   "metadata": {},
   "source": [
    "As Lasso zero down all unimportant features, we can see from above graph that 'runs', 'runs_last_5', 'striker' and 'non-striker' are the most significant feature here. Let us just fit our model on these 4 features."
   ]
  },
  {
   "cell_type": "markdown",
   "metadata": {},
   "source": [
    "## Random Forest"
   ]
  },
  {
   "cell_type": "code",
   "execution_count": 8,
   "metadata": {
    "collapsed": false
   },
   "outputs": [
    {
     "data": {
      "text/plain": [
       "RandomForestRegressor(bootstrap=True, criterion='mse', max_depth=None,\n",
       "           max_features='auto', max_leaf_nodes=None,\n",
       "           min_impurity_decrease=0.0, min_impurity_split=None,\n",
       "           min_samples_leaf=1, min_samples_split=2,\n",
       "           min_weight_fraction_leaf=0.0, n_estimators=10, n_jobs=None,\n",
       "           oob_score=False, random_state=5, verbose=0, warm_start=False)"
      ]
     },
     "execution_count": 8,
     "metadata": {},
     "output_type": "execute_result"
    }
   ],
   "source": [
    "X_new = np.asarray(df[[u'runs', u'runs_last_5', u'striker', u'non-striker']].dropna())\n",
    "X_new = scale(X_new)\n",
    "Xtrain, Xtest, Ytrain, Ytest = train_test_split(X_new, Y, test_size=0.25, random_state=5)\n",
    "rfr = RandomForestRegressor(random_state=5)\n",
    "rfr.fit(Xtrain, Ytrain)"
   ]
  },
  {
   "cell_type": "code",
   "execution_count": 9,
   "metadata": {
    "collapsed": false
   },
   "outputs": [
    {
     "name": "stdout",
     "output_type": "stream",
     "text": [
      "Mean Absolute Error:  25.43182709570694\n",
      "Accuracy:  64.51752636078655\n"
     ]
    }
   ],
   "source": [
    "def custom_accuracy(y_test, y_pred, threshold):\n",
    "    right = 0\n",
    "\n",
    "    l = len(y_pred)\n",
    "    for i in range(0,l):\n",
    "        if(abs(y_pred[i]-y_test[i]) <= threshold):\n",
    "            right += 1\n",
    "    return ((right/l)*100)\n",
    "\n",
    "y_pred = rfr.predict(Xtest)\n",
    "print('Mean Absolute Error: ', mean_absolute_error(Ytest, y_pred))\n",
    "print('Accuracy: ', custom_accuracy(Ytest, y_pred, 25))"
   ]
  },
  {
   "cell_type": "markdown",
   "metadata": {},
   "source": [
    "## Linear Regression"
   ]
  },
  {
   "cell_type": "code",
   "execution_count": 11,
   "metadata": {
    "collapsed": false
   },
   "outputs": [
    {
     "data": {
      "text/plain": [
       "LinearRegression(copy_X=True, fit_intercept=True, n_jobs=None,\n",
       "         normalize=False)"
      ]
     },
     "execution_count": 11,
     "metadata": {},
     "output_type": "execute_result"
    }
   ],
   "source": [
    "lr = LinearRegression()\n",
    "lr.fit(Xtrain, Ytrain)"
   ]
  },
  {
   "cell_type": "code",
   "execution_count": 12,
   "metadata": {
    "collapsed": false
   },
   "outputs": [
    {
     "name": "stdout",
     "output_type": "stream",
     "text": [
      "Mean Absolute Error:  43.35958465155671\n",
      "Accuracy:  36.69991450555714\n"
     ]
    }
   ],
   "source": [
    "y_pred = lr.predict(Xtest)\n",
    "print('Mean Absolute Error: ', mean_absolute_error(Ytest, y_pred))\n",
    "print('Accuracy: ', custom_accuracy(Ytest, y_pred, 25))"
   ]
  },
  {
   "cell_type": "code",
   "execution_count": null,
   "metadata": {
    "collapsed": true
   },
   "outputs": [],
   "source": []
  }
 ],
 "metadata": {
  "anaconda-cloud": {},
  "kernelspec": {
   "display_name": "Python [conda env:tensorflow]",
   "language": "python",
   "name": "conda-env-tensorflow-py"
  },
  "language_info": {
   "codemirror_mode": {
    "name": "ipython",
    "version": 3
   },
   "file_extension": ".py",
   "mimetype": "text/x-python",
   "name": "python",
   "nbconvert_exporter": "python",
   "pygments_lexer": "ipython3",
   "version": "3.5.4"
  }
 },
 "nbformat": 4,
 "nbformat_minor": 1
}
